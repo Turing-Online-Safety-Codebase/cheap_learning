{
 "cells": [
  {
   "cell_type": "code",
   "execution_count": 1,
   "metadata": {},
   "outputs": [],
   "source": [
    "import requests\n",
    "from github import Github\n",
    "import pandas as pd"
   ]
  },
  {
   "cell_type": "code",
   "execution_count": 3,
   "metadata": {},
   "outputs": [
    {
     "data": {
      "text/plain": [
       "10944"
      ]
     },
     "execution_count": 3,
     "metadata": {},
     "output_type": "execute_result"
    }
   ],
   "source": [
    "# loading data \n",
    "url_metadata = 'https://raw.githubusercontent.com/Vicomtech/hate-speech-dataset/master/annotations_metadata.csv'\n",
    "metadata = pd.read_csv(url_metadata, sep=\",\")\n",
    "metadata['label'] = metadata['label'].map({'noHate': False, 'hate': True}) \n",
    "metadata = metadata.rename(columns={\"label\": \"hate_binary\"})\n",
    "len(metadata)"
   ]
  },
  {
   "cell_type": "code",
   "execution_count": 4,
   "metadata": {},
   "outputs": [],
   "source": [
    "# getting texts from Github\n",
    "\n",
    "def get_text(metadata_df):   \n",
    "    train_test  = []\n",
    "    for i in metadata_df['file_id']:\n",
    "        print(\"currenty on \" + str(i))\n",
    "\n",
    "        # checking if they are in train\n",
    "        file_url_train = \"https://github.com/Vicomtech/hate-speech-dataset/blob/master/sampled_train/\" + str(i) + \".txt\"\n",
    "        request_train = requests.get(file_url_train)\n",
    "        if request_train.ok:\n",
    "            train = \"True\"\n",
    "            train_test.append(train)\n",
    "        else:\n",
    "            not_train = \"False\"\n",
    "            train_test.append(not_train)\n",
    "\n",
    "    metadata_df['train_binary'] = train_test\n",
    "\n",
    "    # getting the text\n",
    "    text_list  = []\n",
    "    for i in metadata_df['file_id']:\n",
    "        file_url =  \"https://raw.githubusercontent.com/Vicomtech/hate-speech-dataset/master/all_files/\" + str(i) + \".txt\"\n",
    "        r = requests.get(file_url)\n",
    "        text = r.text\n",
    "        text_list.append(text)\n",
    "\n",
    "    metadata_df['text'] = text_list\n",
    "\n",
    "    return(metadata_df)\n",
    "\n",
    "\n",
    "df_metadata_w_text = get_text(metadata)\n",
    "df_metadata_w_text.to_csv(\"~/Documents/GitHub/cheap_learning/metadata_w_text.csv\", index=False)\n",
    "    "
   ]
  },
  {
   "cell_type": "code",
   "execution_count": null,
   "metadata": {},
   "outputs": [],
   "source": []
  }
 ],
 "metadata": {
  "kernelspec": {
   "display_name": "Python 3.11.0 ('cheap_learning')",
   "language": "python",
   "name": "python3"
  },
  "language_info": {
   "codemirror_mode": {
    "name": "ipython",
    "version": 3
   },
   "file_extension": ".py",
   "mimetype": "text/x-python",
   "name": "python",
   "nbconvert_exporter": "python",
   "pygments_lexer": "ipython3",
   "version": "3.11.0"
  },
  "orig_nbformat": 4,
  "vscode": {
   "interpreter": {
    "hash": "c0b51394a486704b26a35a6ff5dc005f4d65b78e9cd47f44ddd66ce0b6d454a2"
   }
  }
 },
 "nbformat": 4,
 "nbformat_minor": 2
}
